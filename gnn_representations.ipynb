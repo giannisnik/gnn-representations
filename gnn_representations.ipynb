{
 "cells": [
  {
   "cell_type": "markdown",
   "id": "3158d3f7",
   "metadata": {},
   "source": [
    "## What Do GNNs Actually Learn? Towards Understanding their Representations\n",
    "\n",
    "Here we reproduce some of the experiments of the paper [What Do GNNs Actually Learn? Towards Understanding their Representations](https://openreview.net/pdf?id=OjHWbOsrBk).\n",
    "\n",
    "We first compare the distances of the representations learned by GCN and GIN against the corresponding differences in the sum of normalized walks and number of walks, respectively. We perform our experiments on the IMDB-BINARY dataset. Since nodes of the graphs of IMDB-BINARY are not annotated with any features, we annotate them with a single feature equal to 0.1. We also randomly split the dataset into a training, a validation and a test set with an 80 : 10 : 10 split ratio."
   ]
  },
  {
   "cell_type": "code",
   "execution_count": 1,
   "id": "eb2038ae",
   "metadata": {},
   "outputs": [],
   "source": [
    "import numpy as np\n",
    "import networkx as nx\n",
    "import matplotlib.pyplot as plt\n",
    "import seaborn as sns\n",
    "\n",
    "from scipy.sparse import diags, identity\n",
    "from scipy.stats import pearsonr\n",
    "from sklearn.metrics.pairwise import euclidean_distances\n",
    "\n",
    "import torch\n",
    "import torch.nn as nn\n",
    "\n",
    "from torch_geometric.data import Data\n",
    "from torch_geometric.loader import DataLoader\n",
    "from torch_geometric.datasets import TUDataset\n",
    "from torch_geometric.nn import GINConv, GCNConv, global_add_pool\n",
    "from torch_geometric.utils import degree\n",
    "from torch_geometric.utils.convert import from_networkx, to_networkx, to_scipy_sparse_matrix\n",
    "\n",
    "device = torch.device(\"cuda\") if torch.cuda.is_available() else torch.device(\"cpu\")\n",
    "\n",
    "class Ones(object):\n",
    "    def __call__(self, data):\n",
    "        data.x = 0.1*torch.ones(data.num_nodes, 1, dtype=torch.float)\n",
    "        return data\n",
    "    \n",
    "dataset = TUDataset(root='./datasets/IMDB-BINARY', name='IMDB-BINARY', transform=Ones())\n",
    "train_set, val_set, test_set = torch.utils.data.random_split(dataset, [800, 100, 100])\n",
    "\n",
    "train_loader = DataLoader(train_set, batch_size=32, shuffle=True)\n",
    "val_loader = DataLoader(val_set, batch_size=32)\n",
    "test_loader = DataLoader(test_set, batch_size=32)"
   ]
  },
  {
   "cell_type": "markdown",
   "id": "4157f58d",
   "metadata": {},
   "source": [
    "We next define the `sum_walks` function which takes a NetworkX graph as input and outputs the number of walks or sum of normalized walks of length `length` that emanate from each node of the graph."
   ]
  },
  {
   "cell_type": "code",
   "execution_count": 2,
   "id": "7de2c854",
   "metadata": {},
   "outputs": [
    {
     "name": "stdout",
     "output_type": "stream",
     "text": [
      "[ 37.  37.  40.  55. 105.  47.  47.  40.  47.  40.  37.  47.  40.  37.\n",
      "  40.  40.  47.]\n"
     ]
    }
   ],
   "source": [
    "def sum_walks(G, length, normalize=False, selfloops=True):\n",
    "    A = nx.to_scipy_sparse_array(G)\n",
    "    n = A.shape[0]\n",
    "    A = A + identity(n)\n",
    "    if normalize:\n",
    "        degrees = A.sum(axis=0)\n",
    "        inv_degrees = np.power(degrees, -0.5)\n",
    "        D_inv = diags(np.squeeze(np.asarray(inv_degrees)))\n",
    "        A = D_inv @ A @ D_inv\n",
    "    x = np.ones(n)\n",
    "    for _ in range(length):\n",
    "        x = A.dot(x)\n",
    "\n",
    "    return x\n",
    "\n",
    "G = to_networkx(train_set[0])\n",
    "print(sum_walks(G, 2))"
   ]
  },
  {
   "cell_type": "markdown",
   "id": "14cb7004",
   "metadata": {},
   "source": [
    "We next define a GCN model. The neighborhood aggregation layers are followed by a sum readout function and the emerging graph representation is fed to a 2-layers MLP."
   ]
  },
  {
   "cell_type": "code",
   "execution_count": 3,
   "id": "568bb85d",
   "metadata": {},
   "outputs": [],
   "source": [
    "class GCN(nn.Module):\n",
    "    def __init__(self, hidden_dim, n_layers, n_class, dropout):\n",
    "        super().__init__()\n",
    "        self.n_layers = n_layers\n",
    "\n",
    "        lst = [GCNConv(1, hidden_dim, bias=False)]\n",
    "        for i in range(n_layers-1):\n",
    "            lst.append(GCNConv(hidden_dim, hidden_dim, bias=False))\n",
    "        self.conv = nn.ModuleList(lst)\n",
    "\n",
    "        self.fc1 = nn.Linear(hidden_dim, hidden_dim)\n",
    "        self.fc2 = nn.Linear(hidden_dim, n_class)\n",
    "\n",
    "        self.dropout = nn.Dropout(dropout)\n",
    "        self.relu = nn.ReLU()\n",
    "\n",
    "    def forward(self, data):\n",
    "        x, edge_index = data.x, data.edge_index\n",
    "\n",
    "        for i in range(self.n_layers):\n",
    "            x = self.relu(self.conv[i](x, edge_index))\n",
    "            x = self.dropout(x)\n",
    "\n",
    "        out = global_add_pool(x, data.batch)\n",
    "        out = self.relu(self.fc1(out))\n",
    "        out = self.fc2(out)\n",
    "        return out, x"
   ]
  },
  {
   "cell_type": "markdown",
   "id": "4627ecab",
   "metadata": {},
   "source": [
    "We initialize an instance of the GCN model and train it on the training set of the IMDB-BINARY dataset. We store the representations of the nodes of the graphs that belong to the test set in `z_test`. Those representations are generated by the model that achieved the lowest validation loss."
   ]
  },
  {
   "cell_type": "code",
   "execution_count": 4,
   "id": "b71dc6ab",
   "metadata": {},
   "outputs": [
    {
     "name": "stdout",
     "output_type": "stream",
     "text": [
      "Epoch: 001, Train Loss: 0.6937188, Val Loss: 0.6935110, Test Acc: 0.5600000\n",
      "Epoch: 051, Train Loss: 0.6910908, Val Loss: 0.6919807, Test Acc: 0.5000000\n",
      "Epoch: 101, Train Loss: 0.6901847, Val Loss: 0.6900186, Test Acc: 0.4800000\n",
      "Epoch: 151, Train Loss: 0.6892342, Val Loss: 0.6900063, Test Acc: 0.4900000\n",
      "Epoch: 201, Train Loss: 0.6888606, Val Loss: 0.6912505, Test Acc: 0.4700000\n",
      "Epoch: 251, Train Loss: 0.6885641, Val Loss: 0.6912056, Test Acc: 0.4700000\n"
     ]
    }
   ],
   "source": [
    "model = GCN(hidden_dim=64, n_layers=3, n_class=2, dropout=0.0).to(device)\n",
    "optimizer = torch.optim.Adam(model.parameters(), lr=0.001)\n",
    "loss_func = nn.CrossEntropyLoss()\n",
    "\n",
    "best_val_loss = 100\n",
    "for epoch in range(300):\n",
    "    model.train()\n",
    "    loss_all = 0\n",
    "    for data in train_loader:\n",
    "        data = data.to(device)\n",
    "        optimizer.zero_grad()\n",
    "        output, _ = model(data)\n",
    "        loss = loss_func(output, data.y)\n",
    "        loss.backward()\n",
    "        loss_all += data.num_graphs * loss.item()\n",
    "        optimizer.step()\n",
    "    train_loss = loss_all / len(train_loader.dataset)\n",
    "    \n",
    "    model.eval()\n",
    "    loss_all = 0\n",
    "    for data in val_loader:\n",
    "        data = data.to(device)\n",
    "        output, _ = model(data)\n",
    "        loss = loss_func(output, data.y)\n",
    "        loss_all += data.num_graphs * loss.item()\n",
    "    val_loss = loss_all / len(val_loader.dataset)\n",
    "\n",
    "    if best_val_loss >= val_loss:\n",
    "        best_val_loss = val_loss\n",
    "\n",
    "        correct = 0\n",
    "        z_test = list()\n",
    "        for data in test_loader:\n",
    "            data = data.to(device)\n",
    "            output, z = model(data)\n",
    "            z_test.append(z)\n",
    "            pred = output.max(1)[1]\n",
    "            correct += pred.eq(data.y).sum().item()\n",
    "        z_test = torch.cat(z_test, dim=0)\n",
    "        test_acc = correct / len(test_loader.dataset)\n",
    "    \n",
    "    if epoch % 50 == 0:\n",
    "        print('Epoch: {:03d}, Train Loss: {:.7f}, '\n",
    "                'Val Loss: {:.7f}, Test Acc: {:.7f}'.format(\n",
    "                epoch+1, train_loss, val_loss, test_acc))"
   ]
  },
  {
   "cell_type": "markdown",
   "id": "ec212b6d",
   "metadata": {},
   "source": [
    "We compute the sum of normalized walks of length 3 for all the nodes of the graphs that belong to the test set. We then randomly choose 100 of those nodes and compute their distances using (1) the sum of normalized walks; and (2) their representations that were produced by GCN. We finally compute the correlation of the two collections of distances and we also visualize them. "
   ]
  },
  {
   "cell_type": "code",
   "execution_count": 5,
   "id": "4a6eead2",
   "metadata": {},
   "outputs": [
    {
     "name": "stdout",
     "output_type": "stream",
     "text": [
      "PearsonRResult(statistic=0.9999999931066418, pvalue=0.0)\n"
     ]
    },
    {
     "data": {
      "text/plain": [
       "Text(0, 0.5, '$ \\\\Vert \\\\mathbf{h}_u - \\\\mathbf{h}_v \\\\Vert $ ')"
      ]
     },
     "execution_count": 5,
     "metadata": {},
     "output_type": "execute_result"
    },
    {
     "data": {
      "image/png": "[encoded data removed]",
      "text/plain": [
       "<Figure size 640x480 with 1 Axes>"
      ]
     },
     "metadata": {},
     "output_type": "display_data"
    }
   ],
   "source": [
    "test_loader = DataLoader(test_set, batch_size=1)\n",
    "walks = list()\n",
    "for data in test_loader:\n",
    "    G = to_networkx(data)\n",
    "    w = sum_walks(G, length=3, normalize=True)\n",
    "    walks.append(w.reshape(-1, 1))\n",
    "walks = np.vstack(walks)\n",
    "\n",
    "idx = np.random.permutation(z_test.size(0))[:100]\n",
    "\n",
    "z_test_subset = z_test[idx,:]\n",
    "dist_gcn = torch.cdist(z_test_subset, z_test_subset).cpu().detach().numpy()\n",
    "\n",
    "walks_subset = walks[idx,:]\n",
    "dist_walks = euclidean_distances(walks_subset, walks_subset)\n",
    "\n",
    "inds = np.triu_indices(100, k=1)\n",
    "print(pearsonr(dist_gcn[inds], dist_walks[inds]))\n",
    "\n",
    "g = sns.scatterplot(x=dist_walks[inds], y=dist_gcn[inds])\n",
    "plt.xlabel(r\"$\\Vert \\tilde{w}_u - \\tilde{w}_v \\Vert$\")\n",
    "plt.ylabel(r'$ \\Vert \\mathbf{h}_u - \\mathbf{h}_v \\Vert $ ')"
   ]
  },
  {
   "cell_type": "markdown",
   "id": "5c858144",
   "metadata": {},
   "source": [
    "We next experiment with the GIN model. We define a model that consists of 3 neighborhood aggregation layers. The neighborhood aggregation layers are followed by a sum readout function and the emerging graph representation is fed to a 2-layers MLP."
   ]
  },
  {
   "cell_type": "code",
   "execution_count": 6,
   "id": "39c19d89",
   "metadata": {},
   "outputs": [],
   "source": [
    "class GIN(nn.Module):\n",
    "    def __init__(self, hidden_dim, n_layers, n_class, dropout, bias=False):\n",
    "        super().__init__()\n",
    "        self.n_layers = n_layers\n",
    "\n",
    "        lst = []\n",
    "        if bias:\n",
    "            lst.append(GINConv(nn.Sequential(nn.Linear(1, hidden_dim), nn.ReLU(), nn.Linear(hidden_dim, hidden_dim), nn.ReLU())))\n",
    "            for i in range(n_layers-1):\n",
    "                lst.append(GINConv(nn.Sequential(nn.Linear(hidden_dim, hidden_dim), nn.ReLU(), nn.Linear(hidden_dim, hidden_dim), nn.ReLU())))\n",
    "        else:\n",
    "            lst.append(GINConv(nn.Sequential(nn.Linear(1, hidden_dim, bias=False), nn.ReLU(), nn.Linear(hidden_dim, hidden_dim, bias=False), nn.ReLU())))\n",
    "            for i in range(n_layers-1):\n",
    "                lst.append(GINConv(nn.Sequential(nn.Linear(hidden_dim, hidden_dim, bias=False), nn.ReLU(), nn.Linear(hidden_dim, hidden_dim, bias=False), nn.ReLU())))\n",
    "\n",
    "        self.conv = nn.ModuleList(lst)\n",
    "\n",
    "        self.fc1 = nn.Linear(hidden_dim, hidden_dim)\n",
    "        self.fc2 = nn.Linear(hidden_dim, n_class)\n",
    "\n",
    "        self.dropout = nn.Dropout(dropout)\n",
    "        self.relu = nn.ReLU()\n",
    "\n",
    "    def forward(self, data):\n",
    "        x, edge_index = data.x, data.edge_index\n",
    "\n",
    "        for i in range(self.n_layers):\n",
    "            x = self.conv[i](x, edge_index)\n",
    "            x = self.dropout(x)\n",
    "\n",
    "        out = global_add_pool(x, data.batch)\n",
    "        out = self.relu(self.fc1(out))\n",
    "        out = self.fc2(out)\n",
    "        return out, x"
   ]
  },
  {
   "cell_type": "markdown",
   "id": "d96e18f6",
   "metadata": {},
   "source": [
    "We initialize an instance of the model and train it on the training set of the IMDB-BINARY dataset. We store the representations of the nodes of the graphs that belong to the test set in `z_test`. Those representations are generated by the model that achieved the lowest validation loss."
   ]
  },
  {
   "cell_type": "code",
   "execution_count": 7,
   "id": "f18f51ee",
   "metadata": {},
   "outputs": [
    {
     "name": "stdout",
     "output_type": "stream",
     "text": [
      "Epoch: 001, Train Loss: 1.2119694, Val Loss: 0.6832054, Test Acc: 0.4600000\n",
      "Epoch: 051, Train Loss: 0.6435484, Val Loss: 0.6180663, Test Acc: 0.6200000\n",
      "Epoch: 101, Train Loss: 0.6327540, Val Loss: 0.6113712, Test Acc: 0.6600000\n",
      "Epoch: 151, Train Loss: 0.6289055, Val Loss: 0.6097341, Test Acc: 0.6600000\n",
      "Epoch: 201, Train Loss: 0.6217358, Val Loss: 0.6256467, Test Acc: 0.6300000\n",
      "Epoch: 251, Train Loss: 0.6269149, Val Loss: 0.5998317, Test Acc: 0.6800000\n"
     ]
    }
   ],
   "source": [
    "train_loader = DataLoader(train_set, batch_size=32, shuffle=True)\n",
    "val_loader = DataLoader(val_set, batch_size=32)\n",
    "test_loader = DataLoader(test_set, batch_size=32)\n",
    "\n",
    "model = GIN(hidden_dim=64, n_layers=3, n_class=2, dropout=0.2).to(device)\n",
    "optimizer = torch.optim.Adam(model.parameters(), lr=0.001)\n",
    "loss_func = nn.CrossEntropyLoss()\n",
    "\n",
    "best_val_loss = 100\n",
    "for epoch in range(300):\n",
    "    model.train()\n",
    "    loss_all = 0\n",
    "    for data in train_loader:\n",
    "        data = data.to(device)\n",
    "        optimizer.zero_grad()\n",
    "        output, _ = model(data)\n",
    "        loss = loss_func(output, data.y)\n",
    "        loss.backward()\n",
    "        loss_all += data.num_graphs * loss.item()\n",
    "        optimizer.step()\n",
    "    train_loss = loss_all / len(train_loader.dataset)\n",
    "    \n",
    "    model.eval()\n",
    "    loss_all = 0\n",
    "    for data in val_loader:\n",
    "        data = data.to(device)\n",
    "        output, _ = model(data)\n",
    "        loss = loss_func(output, data.y)\n",
    "        loss_all += data.num_graphs * loss.item()\n",
    "    val_loss = loss_all / len(val_loader.dataset)\n",
    "\n",
    "    if best_val_loss >= val_loss:\n",
    "        best_val_loss = val_loss\n",
    "\n",
    "        correct = 0\n",
    "        z_test = list()\n",
    "        for data in test_loader:\n",
    "            data = data.to(device)\n",
    "            output, z = model(data)\n",
    "            z_test.append(z)\n",
    "            pred = output.max(1)[1]\n",
    "            correct += pred.eq(data.y).sum().item()\n",
    "        z_test = torch.cat(z_test, dim=0)\n",
    "        test_acc = correct / len(test_loader.dataset)\n",
    "    \n",
    "    if epoch % 50 == 0:\n",
    "        print('Epoch: {:03d}, Train Loss: {:.7f}, '\n",
    "                'Val Loss: {:.7f}, Test Acc: {:.7f}'.format(\n",
    "                epoch+1, train_loss, val_loss, test_acc))"
   ]
  },
  {
   "cell_type": "markdown",
   "id": "2a44241e",
   "metadata": {},
   "source": [
    "We compute the number of walks of length 3 for all the nodes of the graphs that belong to the test set. We then randomly choose 100 of those nodes and compute their distances using (1) the number of walks; and (2) their representations that were produced by GIN. We finally compute the correlation of the two collections of distances and we also visualize them. "
   ]
  },
  {
   "cell_type": "code",
   "execution_count": 8,
   "id": "67bf240c",
   "metadata": {},
   "outputs": [
    {
     "name": "stdout",
     "output_type": "stream",
     "text": [
      "PearsonRResult(statistic=0.9999999999742505, pvalue=0.0)\n"
     ]
    },
    {
     "data": {
      "text/plain": [
       "Text(0, 0.5, '$ \\\\Vert \\\\mathbf{h}_u - \\\\mathbf{h}_v \\\\Vert $ ')"
      ]
     },
     "execution_count": 8,
     "metadata": {},
     "output_type": "execute_result"
    },
    {
     "data": {
      "image/png": "[encoded data removed]",
      "text/plain": [
       "<Figure size 640x480 with 1 Axes>"
      ]
     },
     "metadata": {},
     "output_type": "display_data"
    }
   ],
   "source": [
    "test_loader = DataLoader(test_set, batch_size=1)\n",
    "walks = list()\n",
    "for data in test_loader:\n",
    "    G = to_networkx(data)\n",
    "    w = sum_walks(G, length=3)\n",
    "    walks.append(w.reshape(-1, 1))\n",
    "walks = np.vstack(walks)\n",
    "\n",
    "idx = np.random.permutation(z_test.size(0))[:100]\n",
    "\n",
    "z_test_subset = z_test[idx,:]\n",
    "dist_gcn = torch.cdist(z_test_subset, z_test_subset).cpu().detach().numpy()\n",
    "\n",
    "walks_subset = walks[idx,:]\n",
    "dist_walks = euclidean_distances(walks_subset, walks_subset)\n",
    "\n",
    "inds = np.triu_indices(100, k=1)\n",
    "print(pearsonr(dist_gcn[inds], dist_walks[inds]))\n",
    "\n",
    "g = sns.scatterplot(x=dist_walks[inds], y=dist_gcn[inds])\n",
    "plt.xlabel(r\"$\\Vert w_u - w_v \\Vert$\")\n",
    "plt.ylabel(r'$ \\Vert \\mathbf{h}_u - \\mathbf{h}_v \\Vert $ ')"
   ]
  },
  {
   "cell_type": "markdown",
   "id": "83bbb7c3",
   "metadata": {},
   "source": [
    "### Can Structurally Dissimilar Nodes Obtain Identical Representations?\n",
    "We create the 3 graphs that are illustrated in Figure 2 in the paper."
   ]
  },
  {
   "cell_type": "code",
   "execution_count": 9,
   "id": "af3e9d12",
   "metadata": {},
   "outputs": [
    {
     "data": {
      "image/png": "[encoded data removed]",
      "text/plain": [
       "<Figure size 1000x300 with 3 Axes>"
      ]
     },
     "metadata": {},
     "output_type": "display_data"
    }
   ],
   "source": [
    "G1 = nx.Graph()\n",
    "G1.add_edges_from([(0,1),(0,2),(0,3)])\n",
    "\n",
    "G2 = nx.Graph()\n",
    "G2.add_edges_from([(0,1),(1,2),(1,3),(1,4),(1,5),(1,6),(1,7)])\n",
    "\n",
    "G3 = nx.Graph()\n",
    "G3.add_edges_from([(0,1),(0,2),(1,3),(2,4),(2,5)])\n",
    "\n",
    "Gs = [G1, G2, G3]\n",
    "\n",
    "f = plt.figure(figsize=(10,3))\n",
    "for i in range(len(Gs)):\n",
    "    f.add_subplot(1,3,i+1)\n",
    "    node_color = ['#1f78b4']*Gs[i].number_of_nodes()\n",
    "    node_color[0] = 'red'\n",
    "    nx.draw(Gs[i], with_labels=True, node_color=node_color)"
   ]
  },
  {
   "cell_type": "markdown",
   "id": "cf940748",
   "metadata": {},
   "source": [
    "The number of walks of length 2 starting from the red nodes of the 3 graphs is equal to\n",
    "10. Let $v, u, z$ denote the 3 nodes. Then, we have that $w_v^{(2)} = w_u^{(2)} = w_z^{(2)} = 10$. Therefore, for any pair of those 3 nodes (e.g., nodes $v$ and $u$), we have that $|| w_v^{(2)} - w_u^{(2)}|| = 0$. According to Theorem 1 from the paper, if the 3 graphs are fed to a GIN model without biases, then $\\mathbf{h}_v^{(2)} = \\mathbf{h}_u^{(2)} = \\mathbf{h}_z^{(2)}$. We next empirically validate this result."
   ]
  },
  {
   "cell_type": "code",
   "execution_count": 10,
   "id": "2341af0a",
   "metadata": {},
   "outputs": [
    {
     "name": "stdout",
     "output_type": "stream",
     "text": [
      "tensor([0.0000, 0.0000, 0.3635, 0.0267, 0.0000, 0.0000, 0.0166, 0.4330],\n",
      "       grad_fn=<SliceBackward0>)\n",
      "tensor([0.0000, 0.0000, 0.3635, 0.0267, 0.0000, 0.0000, 0.0166, 0.4330],\n",
      "       grad_fn=<SliceBackward0>)\n",
      "tensor([0.0000, 0.0000, 0.3635, 0.0267, 0.0000, 0.0000, 0.0166, 0.4330],\n",
      "       grad_fn=<SliceBackward0>)\n"
     ]
    }
   ],
   "source": [
    "class GIN(nn.Module):\n",
    "    def __init__(self, hidden_dim, n_layers, bias=False):\n",
    "        super().__init__()\n",
    "        self.n_layers = n_layers\n",
    "\n",
    "        lst = []\n",
    "        if bias:\n",
    "            lst.append(GINConv(nn.Sequential(nn.Linear(1, hidden_dim), nn.ReLU(), nn.Linear(hidden_dim, hidden_dim), nn.ReLU())))\n",
    "            for i in range(n_layers-1):\n",
    "                lst.append(GINConv(nn.Sequential(nn.Linear(hidden_dim, hidden_dim), nn.ReLU(), nn.Linear(hidden_dim, hidden_dim), nn.ReLU())))\n",
    "        else:\n",
    "            lst.append(GINConv(nn.Sequential(nn.Linear(1, hidden_dim, bias=False), nn.ReLU(), nn.Linear(hidden_dim, hidden_dim, bias=False), nn.ReLU())))\n",
    "            for i in range(n_layers-1):\n",
    "                lst.append(GINConv(nn.Sequential(nn.Linear(hidden_dim, hidden_dim, bias=False), nn.ReLU(), nn.Linear(hidden_dim, hidden_dim, bias=False), nn.ReLU())))\n",
    "\n",
    "        self.conv = nn.ModuleList(lst)\n",
    "\n",
    "    def forward(self, data):\n",
    "        x, edge_index = data.x, data.edge_index\n",
    "\n",
    "        for i in range(self.n_layers):\n",
    "            x = self.conv[i](x, edge_index)\n",
    "\n",
    "        return x\n",
    "    \n",
    "model = GIN(hidden_dim=8, n_layers=2, bias=False)\n",
    "\n",
    "for G in Gs:\n",
    "    data = from_networkx(G)\n",
    "    data.x = torch.ones(G.number_of_nodes(), 1, dtype=torch.float)\n",
    "    z = model(data)\n",
    "    print(z[0,:])"
   ]
  },
  {
   "cell_type": "markdown",
   "id": "99146227",
   "metadata": {},
   "source": [
    "We observe that all 3 red nodes obtain identical representations. Note that $w_v^{(1)} \\neq w_u^{(1)}$, $w_v^{(1)} \\neq w_z^{(1)}$ and $w_u^{(1)} \\neq w_z^{(1)}$. Therefore, the representations of the 3 nodes produced at the first layer of GIN can be different from each if weights are properly initialized.\n",
    "\n",
    "___ \n",
    "\n",
    "We next create the 2 graphs that are illustrated in Figure 3 in the paper."
   ]
  },
  {
   "cell_type": "code",
   "execution_count": 11,
   "id": "f6a35ac8",
   "metadata": {},
   "outputs": [
    {
     "data": {
      "image/png": "[encoded data removed]",
      "text/plain": [
       "<Figure size 1000x300 with 2 Axes>"
      ]
     },
     "metadata": {},
     "output_type": "display_data"
    }
   ],
   "source": [
    "G1 = nx.Graph()\n",
    "G1.add_edges_from([(0,1),(1,2),(1,3)])\n",
    "\n",
    "G2 = nx.Graph()\n",
    "G2.add_edges_from([(0,1),(0,2),(0,3),(2,4),(2,5),(3,6),(3,7)])\n",
    "for i in range(4,8):\n",
    "    for j in range(8,71):\n",
    "        G2.add_edge(i,j)\n",
    "\n",
    "Gs = [G1, G2]\n",
    "\n",
    "f = plt.figure(figsize=(10,3))\n",
    "for i in range(len(Gs)):\n",
    "    f.add_subplot(1,3,i+1)\n",
    "    node_color = ['#1f78b4']*Gs[i].number_of_nodes()\n",
    "    node_color[0] = 'red'\n",
    "    nx.draw(Gs[i], with_labels=True, node_color=node_color)"
   ]
  },
  {
   "cell_type": "markdown",
   "id": "3b15f3b6",
   "metadata": {},
   "source": [
    "The sum of normalized walks of length 2 starting from the red nodes of the 2 graphs is approximately equal to\n",
    "0.890. Let $v, u$ denote the 2 nodes. Then, we have that $\\tilde{w}_v^{(2)} = \\tilde{w}_u^{(2)} = \\tilde{w}_z^{(2)} \\approx 0.890$. Therefore, we have that $|| \\tilde{w}_v^{(2)} - \\tilde{w}_u^{(2)}|| = 0$. According to Theorem 1 from the paper, if the above 2 graphs are fed to a GCN model, then $||\\mathbf{h}_v^{(2)} - \\mathbf{h}_u^{(2)}|| = 0$, i.e., $\\mathbf{h}_v^{(2)} = \\mathbf{h}_u^{(2)}$. We next empirically validate this result."
   ]
  },
  {
   "cell_type": "code",
   "execution_count": 12,
   "id": "d3fd1811",
   "metadata": {},
   "outputs": [
    {
     "name": "stdout",
     "output_type": "stream",
     "text": [
      "tensor([0.3076, 0.0000, 0.0000, 0.2050, 0.3641, 0.0000, 0.0000, 0.0750],\n",
      "       grad_fn=<SliceBackward0>)\n",
      "tensor([0.3074, 0.0000, 0.0000, 0.2049, 0.3639, 0.0000, 0.0000, 0.0749],\n",
      "       grad_fn=<SliceBackward0>)\n"
     ]
    }
   ],
   "source": [
    "class GCN(nn.Module):\n",
    "    def __init__(self, hidden_dim, n_layers):\n",
    "        super().__init__()\n",
    "        self.n_layers = n_layers\n",
    "\n",
    "        lst = [GCNConv(1, hidden_dim, bias=False)]\n",
    "        for i in range(n_layers-1):\n",
    "            lst.append(GCNConv(hidden_dim, hidden_dim, bias=False))\n",
    "        self.conv = nn.ModuleList(lst)\n",
    "        \n",
    "        self.relu = nn.ReLU()\n",
    "\n",
    "    def forward(self, data):\n",
    "        x, edge_index = data.x, data.edge_index\n",
    "\n",
    "        for i in range(self.n_layers):\n",
    "            x = self.relu(self.conv[i](x, edge_index))\n",
    "        \n",
    "        return x\n",
    "    \n",
    "model = GCN(hidden_dim=8, n_layers=2)\n",
    "\n",
    "for G in Gs:\n",
    "    data = from_networkx(G)\n",
    "    data.x = torch.ones(G.number_of_nodes(), 1, dtype=torch.float)\n",
    "    z = model(data)\n",
    "    print(z[0,:])"
   ]
  },
  {
   "cell_type": "markdown",
   "id": "f79472ed",
   "metadata": {},
   "source": [
    "We observe that both red nodes obtain identical representations (or nearly identical due to numerical issues). Note that $\\tilde{w}_v^{(1)} \\neq \\tilde{w}_u^{(1)}$. Therefore, the representations of the 2 nodes that emerge at the first layer of GCN can be different from each if weights are properly initialized. "
   ]
  },
  {
   "cell_type": "markdown",
   "id": "f2d16426",
   "metadata": {},
   "source": [
    "### How Do Initial Node Features Influence Representations?\n",
    "Theorem 2 generalize Theorem 1 to the setting where nodes are annotated with features that point in the same direction. We next annotate the nodes of the IMDB-BINARY dataset with their degrees. Since all degrees are positive, all features point in the same direction. Here, we will only experiment with the GIN model. It is trivial to conduct the experiment for the GCN model. We first reload the dataset and split it into a training, a validation and a test set with a 80 : 10 : 10 ratio."
   ]
  },
  {
   "cell_type": "code",
   "execution_count": 13,
   "id": "3f121384",
   "metadata": {},
   "outputs": [],
   "source": [
    "class Degree(object):\n",
    "    def __call__(self, data):\n",
    "        idx = data.edge_index[0]\n",
    "        deg = degree(idx, data.num_nodes, dtype=torch.float)\n",
    "        data.x = deg.unsqueeze(1)\n",
    "        return data\n",
    "    \n",
    "dataset = TUDataset(root='./datasets/IMDB-BINARY', name='IMDB-BINARY', transform=Degree())\n",
    "train_set, val_set, test_set = torch.utils.data.random_split(dataset, [800, 100, 100])\n",
    "\n",
    "train_loader = DataLoader(train_set, batch_size=32, shuffle=True)\n",
    "val_loader = DataLoader(val_set, batch_size=32)\n",
    "test_loader = DataLoader(test_set, batch_size=32)"
   ]
  },
  {
   "cell_type": "markdown",
   "id": "b812c14e",
   "metadata": {},
   "source": [
    "The `sum_walks_degree` function takes a NetworkX graph as input and outputs the number of weighted walks or sum of normalized weighted walks of length `length` that emanate from each node of the graph. The weights depend on the degrees of the different nodes."
   ]
  },
  {
   "cell_type": "code",
   "execution_count": 14,
   "id": "8bcf0158",
   "metadata": {},
   "outputs": [],
   "source": [
    "def sum_walks_degree(G, length, normalize=False, selfloops=True):\n",
    "    A = nx.to_scipy_sparse_array(G)\n",
    "    n = A.shape[0]\n",
    "    x = A.sum(axis=0)\n",
    "    A = A + identity(n)\n",
    "    if normalize:\n",
    "        degrees = A.sum(axis=0)\n",
    "        inv_degrees = np.power(degrees, -0.5)\n",
    "        D_inv = diags(np.squeeze(np.asarray(inv_degrees)))\n",
    "        A = D_inv @ A @ D_inv\n",
    "    for _ in range(length):\n",
    "        x = A.dot(x)\n",
    "    return x"
   ]
  },
  {
   "cell_type": "markdown",
   "id": "d52435b2",
   "metadata": {},
   "source": [
    "We next initialize a GIN model and train it on the training set of the IMDB-BINARY dataset. We store in `z_test` the representations of the nodes that emerge at the third neighborhood aggregation layer of GIN."
   ]
  },
  {
   "cell_type": "code",
   "execution_count": 15,
   "id": "8c2bea2a",
   "metadata": {},
   "outputs": [
    {
     "name": "stdout",
     "output_type": "stream",
     "text": [
      "Epoch: 001, Train Loss: 241.5787059, Val Loss: 1566.6172644, Test Acc: 0.6400000\n",
      "Epoch: 051, Train Loss: 1.6006495, Val Loss: 3.5788268, Test Acc: 0.5000000\n",
      "Epoch: 101, Train Loss: 0.6951972, Val Loss: 0.8317815, Test Acc: 0.5000000\n",
      "Epoch: 151, Train Loss: 0.6597382, Val Loss: 0.6867201, Test Acc: 0.6200000\n",
      "Epoch: 201, Train Loss: 0.6271087, Val Loss: 0.7695413, Test Acc: 0.7800000\n",
      "Epoch: 251, Train Loss: 0.6213561, Val Loss: 0.7710102, Test Acc: 0.7400000\n"
     ]
    }
   ],
   "source": [
    "class GIN(nn.Module):\n",
    "    def __init__(self, hidden_dim, n_layers, n_class, dropout, bias=False):\n",
    "        super().__init__()\n",
    "        self.n_layers = n_layers\n",
    "\n",
    "        lst = []\n",
    "        if bias:\n",
    "            lst.append(GINConv(nn.Sequential(nn.Linear(1, hidden_dim), nn.ReLU(), nn.Linear(hidden_dim, hidden_dim), nn.ReLU())))\n",
    "            for i in range(n_layers-1):\n",
    "                lst.append(GINConv(nn.Sequential(nn.Linear(hidden_dim, hidden_dim), nn.ReLU(), nn.Linear(hidden_dim, hidden_dim), nn.ReLU())))\n",
    "        else:\n",
    "            lst.append(GINConv(nn.Sequential(nn.Linear(1, hidden_dim, bias=False), nn.ReLU(), nn.Linear(hidden_dim, hidden_dim, bias=False), nn.ReLU())))\n",
    "            for i in range(n_layers-1):\n",
    "                lst.append(GINConv(nn.Sequential(nn.Linear(hidden_dim, hidden_dim, bias=False), nn.ReLU(), nn.Linear(hidden_dim, hidden_dim, bias=False), nn.ReLU())))\n",
    "\n",
    "        self.conv = nn.ModuleList(lst)\n",
    "\n",
    "        self.fc1 = nn.Linear(hidden_dim, hidden_dim)\n",
    "        self.fc2 = nn.Linear(hidden_dim, n_class)\n",
    "\n",
    "        self.dropout = nn.Dropout(dropout)\n",
    "        self.relu = nn.ReLU()\n",
    "\n",
    "    def forward(self, data):\n",
    "        x, edge_index = data.x, data.edge_index\n",
    "\n",
    "        for i in range(self.n_layers):\n",
    "            x = self.conv[i](x, edge_index)\n",
    "            x = self.dropout(x)\n",
    "\n",
    "        out = global_add_pool(x, data.batch)\n",
    "        out = self.relu(self.fc1(out))\n",
    "        out = self.fc2(out)\n",
    "        return out, x\n",
    "    \n",
    "train_loader = DataLoader(train_set, batch_size=32, shuffle=True)\n",
    "val_loader = DataLoader(val_set, batch_size=32)\n",
    "test_loader = DataLoader(test_set, batch_size=32)\n",
    "\n",
    "model = GIN(hidden_dim=64, n_layers=3, n_class=2, dropout=0.2).to(device)\n",
    "optimizer = torch.optim.Adam(model.parameters(), lr=0.001)\n",
    "loss_func = nn.CrossEntropyLoss()\n",
    "\n",
    "best_val_loss = 100\n",
    "for epoch in range(300):\n",
    "    model.train()\n",
    "    loss_all = 0\n",
    "    for data in train_loader:\n",
    "        data = data.to(device)\n",
    "        optimizer.zero_grad()\n",
    "        output, _ = model(data)\n",
    "        loss = loss_func(output, data.y)\n",
    "        loss.backward()\n",
    "        loss_all += data.num_graphs * loss.item()\n",
    "        optimizer.step()\n",
    "    train_loss = loss_all / len(train_loader.dataset)\n",
    "    \n",
    "    model.eval()\n",
    "    loss_all = 0\n",
    "    for data in val_loader:\n",
    "        data = data.to(device)\n",
    "        output, _ = model(data)\n",
    "        loss = loss_func(output, data.y)\n",
    "        loss_all += data.num_graphs * loss.item()\n",
    "    val_loss = loss_all / len(val_loader.dataset)\n",
    "\n",
    "    if best_val_loss >= val_loss:\n",
    "        best_val_loss = val_loss\n",
    "\n",
    "        correct = 0\n",
    "        z_test = list()\n",
    "        for data in test_loader:\n",
    "            data = data.to(device)\n",
    "            output, z = model(data)\n",
    "            z_test.append(z)\n",
    "            pred = output.max(1)[1]\n",
    "            correct += pred.eq(data.y).sum().item()\n",
    "        z_test = torch.cat(z_test, dim=0)\n",
    "        test_acc = correct / len(test_loader.dataset)\n",
    "    \n",
    "    if epoch % 50 == 0:\n",
    "        print('Epoch: {:03d}, Train Loss: {:.7f}, '\n",
    "                'Val Loss: {:.7f}, Test Acc: {:.7f}'.format(\n",
    "                epoch+1, train_loss, val_loss, test_acc))"
   ]
  },
  {
   "cell_type": "markdown",
   "id": "fa4c2ade",
   "metadata": {},
   "source": [
    "We compute the number of weighted walks of length 3 for all the nodes of the graphs that belong to the test set. We then randomly choose 100 of those nodes and compute their distances using (1) the number of weighted walks; and (2) their representations that were produced by GIN. We finally compute the correlation of the two collections of distances and we also visualize them. "
   ]
  },
  {
   "cell_type": "code",
   "execution_count": 16,
   "id": "215fad4f",
   "metadata": {},
   "outputs": [
    {
     "name": "stdout",
     "output_type": "stream",
     "text": [
      "PearsonRResult(statistic=0.9999999999999561, pvalue=0.0)\n"
     ]
    },
    {
     "data": {
      "text/plain": [
       "Text(0, 0.5, '$ \\\\Vert \\\\mathbf{h}_u - \\\\mathbf{h}_v \\\\Vert $ ')"
      ]
     },
     "execution_count": 16,
     "metadata": {},
     "output_type": "execute_result"
    },
    {
     "data": {
      "image/png": "[encoded data removed]",
      "text/plain": [
       "<Figure size 640x480 with 1 Axes>"
      ]
     },
     "metadata": {},
     "output_type": "display_data"
    }
   ],
   "source": [
    "test_loader = DataLoader(test_set, batch_size=1)\n",
    "walks = list()\n",
    "for data in test_loader:\n",
    "    G = to_networkx(data)\n",
    "    w = sum_walks_degree(G, length=3)\n",
    "    walks.append(w.reshape(-1, 1))\n",
    "walks = np.vstack(walks)\n",
    "\n",
    "idx = np.random.permutation(z_test.size(0))[:100]\n",
    "\n",
    "z_test_subset = z_test[idx,:]\n",
    "dist_gcn = torch.cdist(z_test_subset, z_test_subset).cpu().detach().numpy()\n",
    "\n",
    "walks_subset = walks[idx,:]\n",
    "dist_walks = euclidean_distances(walks_subset, walks_subset)\n",
    "\n",
    "inds = np.triu_indices(100, k=1)\n",
    "print(pearsonr(dist_gcn[inds], dist_walks[inds]))\n",
    "\n",
    "g = sns.scatterplot(x=dist_walks[inds], y=dist_gcn[inds])\n",
    "plt.xlabel(r\"$\\Vert \\mathbf{w}_u - \\mathbf{w}_v \\Vert$\")\n",
    "plt.ylabel(r'$ \\Vert \\mathbf{h}_u - \\mathbf{h}_v \\Vert $ ')"
   ]
  },
  {
   "cell_type": "markdown",
   "id": "bd26b1d0",
   "metadata": {},
   "source": [
    "### The Phenomenon of Oversquashing from Another Perspective\n",
    "\n",
    "We create a dataset that consists of instances of the CBT(n,r) graph as discussed in the paper. We create two copies of each CBT(n,r) graph. The difference lies in the initial feature of a leaf of the balanced tree. While in the first copy (class 0), its value is equal to 1, in the second copy its value is equal to `feature`. In the following experiment we vary the value of `feature` from 5 to 100. The larger the value of the feature, the larger the value of $||\\mathbf{w}_v^{(4)} - \\mathbf{w}_{v'}{(4)}$ where $v$ and $v'$ are nodes of the complete graph in the two copies of CBT(n,r) respectively, and thus it is easier for the model to classify them to different categories."
   ]
  },
  {
   "cell_type": "code",
   "execution_count": 17,
   "id": "bff07980",
   "metadata": {},
   "outputs": [
    {
     "name": "stdout",
     "output_type": "stream",
     "text": [
      "Feature of leaf node set to: 5\n",
      "----------------------------\n",
      "Epoch: 001, Train Loss: 0.7161391, Val Loss: 0.6879695, Test Acc: 0.5000000\n",
      "Epoch: 051, Train Loss: 0.6913623, Val Loss: 0.7206323, Test Acc: 0.5384615\n",
      "Epoch: 101, Train Loss: 0.6914472, Val Loss: 0.7011819, Test Acc: 0.5384615\n",
      "Epoch: 151, Train Loss: 0.6939490, Val Loss: 0.7033982, Test Acc: 0.5384615\n",
      "Epoch: 201, Train Loss: 0.6918921, Val Loss: 0.7048012, Test Acc: 0.5384615\n",
      "Epoch: 251, Train Loss: 0.6918240, Val Loss: 0.7087362, Test Acc: 0.5384615\n",
      "Epoch: 301, Train Loss: 0.6971581, Val Loss: 0.7235772, Test Acc: 0.5384615\n",
      "Feature of leaf node set to: 10\n",
      "----------------------------\n",
      "Epoch: 001, Train Loss: 0.6913777, Val Loss: 0.7617980, Test Acc: 0.4615385\n",
      "Epoch: 051, Train Loss: 0.6909497, Val Loss: 0.7438825, Test Acc: 0.3461538\n",
      "Epoch: 101, Train Loss: 0.6844921, Val Loss: 0.7567847, Test Acc: 0.3461538\n",
      "Epoch: 151, Train Loss: 0.6881856, Val Loss: 0.7584114, Test Acc: 0.3461538\n",
      "Epoch: 201, Train Loss: 0.6904749, Val Loss: 0.7582954, Test Acc: 0.3461538\n",
      "Epoch: 251, Train Loss: 0.6857018, Val Loss: 0.7546790, Test Acc: 0.3461538\n",
      "Epoch: 301, Train Loss: 0.6893094, Val Loss: 0.7514077, Test Acc: 0.3461538\n",
      "Feature of leaf node set to: 20\n",
      "----------------------------\n",
      "Epoch: 001, Train Loss: 0.6964082, Val Loss: 0.6971649, Test Acc: 0.5769231\n",
      "Epoch: 051, Train Loss: 0.6925229, Val Loss: 0.7045320, Test Acc: 0.6538462\n",
      "Epoch: 101, Train Loss: 0.6897660, Val Loss: 0.7207086, Test Acc: 0.6538462\n",
      "Epoch: 151, Train Loss: 0.6925226, Val Loss: 0.7181482, Test Acc: 0.6538462\n",
      "Epoch: 201, Train Loss: 0.6920183, Val Loss: 0.7048832, Test Acc: 0.6538462\n",
      "Epoch: 251, Train Loss: 0.6836833, Val Loss: 0.7043561, Test Acc: 0.6538462\n",
      "Epoch: 301, Train Loss: 0.6388132, Val Loss: 0.6784766, Test Acc: 0.5384615\n",
      "Feature of leaf node set to: 40\n",
      "----------------------------\n",
      "Epoch: 001, Train Loss: 0.7015088, Val Loss: 0.6694390, Test Acc: 0.5769231\n",
      "Epoch: 051, Train Loss: 0.6902854, Val Loss: 0.7152929, Test Acc: 0.5769231\n",
      "Epoch: 101, Train Loss: 0.6877896, Val Loss: 0.7296749, Test Acc: 0.5769231\n",
      "Epoch: 151, Train Loss: 0.6884956, Val Loss: 0.7157936, Test Acc: 0.5769231\n",
      "Epoch: 201, Train Loss: 0.6911320, Val Loss: 0.7076944, Test Acc: 0.5769231\n",
      "Epoch: 251, Train Loss: 0.6900733, Val Loss: 0.7249805, Test Acc: 0.5769231\n",
      "Epoch: 301, Train Loss: 0.6915110, Val Loss: 0.7227247, Test Acc: 0.5769231\n",
      "Feature of leaf node set to: 60\n",
      "----------------------------\n",
      "Epoch: 001, Train Loss: 0.6994938, Val Loss: 0.6843112, Test Acc: 0.4615385\n",
      "Epoch: 051, Train Loss: 0.6925870, Val Loss: 0.6935407, Test Acc: 0.3076923\n",
      "Epoch: 101, Train Loss: 0.5451739, Val Loss: 0.5478448, Test Acc: 0.8461538\n",
      "Epoch: 151, Train Loss: 0.0636321, Val Loss: 0.2114531, Test Acc: 1.0000000\n",
      "Epoch: 201, Train Loss: 0.0003216, Val Loss: 0.0003857, Test Acc: 1.0000000\n",
      "Epoch: 251, Train Loss: 0.0003707, Val Loss: 0.0006602, Test Acc: 1.0000000\n",
      "Epoch: 301, Train Loss: 0.0001061, Val Loss: 0.0001913, Test Acc: 1.0000000\n",
      "Feature of leaf node set to: 80\n",
      "----------------------------\n",
      "Epoch: 001, Train Loss: 0.6980299, Val Loss: 0.7059356, Test Acc: 0.3846154\n",
      "Epoch: 051, Train Loss: 0.6904100, Val Loss: 0.7180733, Test Acc: 0.2692308\n",
      "Epoch: 101, Train Loss: 0.6196941, Val Loss: 0.7639189, Test Acc: 0.3076923\n",
      "Epoch: 151, Train Loss: 0.5749861, Val Loss: 0.5685600, Test Acc: 0.4230769\n",
      "Epoch: 201, Train Loss: 0.3893672, Val Loss: 0.3335210, Test Acc: 0.8846154\n",
      "Epoch: 251, Train Loss: 0.2551142, Val Loss: 0.3036604, Test Acc: 1.0000000\n",
      "Epoch: 301, Train Loss: 0.0002414, Val Loss: 0.0001234, Test Acc: 1.0000000\n",
      "Feature of leaf node set to: 100\n",
      "----------------------------\n",
      "Epoch: 001, Train Loss: 0.7014286, Val Loss: 0.6928577, Test Acc: 0.4230769\n",
      "Epoch: 051, Train Loss: 0.6280367, Val Loss: 0.7612537, Test Acc: 0.3461538\n",
      "Epoch: 101, Train Loss: 0.3442366, Val Loss: 0.3997504, Test Acc: 0.6923077\n",
      "Epoch: 151, Train Loss: 0.2142951, Val Loss: 0.1459941, Test Acc: 1.0000000\n",
      "Epoch: 201, Train Loss: 0.0003143, Val Loss: 0.0003778, Test Acc: 1.0000000\n",
      "Epoch: 251, Train Loss: 0.0001138, Val Loss: 0.0001304, Test Acc: 1.0000000\n",
      "Epoch: 301, Train Loss: 0.0000667, Val Loss: 0.0000906, Test Acc: 1.0000000\n"
     ]
    }
   ],
   "source": [
    "class GIN(torch.nn.Module):\n",
    "    def __init__(self, input_dim, hidden_dim, n_layers, n_class, dropout=0.0):\n",
    "        super().__init__()\n",
    "        self.dropout = dropout\n",
    "        \n",
    "        self.convs = torch.nn.ModuleList()\n",
    "        self.convs.append(GINConv(nn.Sequential(nn.Linear(input_dim, hidden_dim), nn.ReLU(),\n",
    "                            nn.BatchNorm1d(hidden_dim),nn.Linear(hidden_dim, hidden_dim), nn.ReLU())))                        \n",
    "        for layer in range(n_layers-1):\n",
    "            self.convs.append(GINConv(nn.Sequential(nn.Linear(hidden_dim, hidden_dim), nn.ReLU(),\n",
    "                            nn.BatchNorm1d(hidden_dim),nn.Linear(hidden_dim, hidden_dim), nn.ReLU()))) \n",
    "        \n",
    "        self.fc1 = nn.Linear(hidden_dim, hidden_dim)\n",
    "        self.fc2 = nn.Linear(hidden_dim, n_class)\n",
    "        self.dropout = nn.Dropout(dropout)\n",
    "        self.relu = nn.ReLU()\n",
    "\n",
    "    def forward(self, data):\n",
    "        edge_index = data.edge_index\n",
    "        x = data.x\n",
    "        batch = data.batch\n",
    "\n",
    "        for conv in self.convs:\n",
    "            x = conv(x, edge_index)\n",
    "            x = self.dropout(x)\n",
    "\n",
    "        idx = torch.zeros(torch.max(batch)+1, device=x.device, dtype=torch.long, requires_grad=False)\n",
    "        _,counts = torch.unique(data.batch, return_counts=True)\n",
    "        idx[1:] = counts[:-1]\n",
    "        idx = torch.cumsum(idx, dim=0)\n",
    "        out = self.relu(self.fc1(x[idx,:]))\n",
    "        out = self.fc2(out)\n",
    "        return out\n",
    "    \n",
    "generator = torch.Generator().manual_seed(42)\n",
    "\n",
    "feature_vals = [5, 10, 20, 40, 60, 80, 100]\n",
    "test_accs = list()\n",
    "for feature in feature_vals:\n",
    "    print('Feature of leaf node set to:', feature)\n",
    "    print('----------------------------')\n",
    "    dataset = list()\n",
    "    for n in range(4,20):\n",
    "        C = nx.complete_graph(n)\n",
    "        for r in range(2,10):\n",
    "            BT = nx.balanced_tree(r, 2)\n",
    "            CBT = nx.disjoint_union(C, BT)\n",
    "            CBT.add_edge(n-1, n)\n",
    "\n",
    "            edge_index = torch.zeros(2, 2*CBT.number_of_edges(), dtype=torch.long)\n",
    "            for j,edge in enumerate(CBT.edges()):\n",
    "                edge_index[0,2*j] = edge[0]\n",
    "                edge_index[1,2*j] = edge[1]\n",
    "                edge_index[0,2*j+1] = edge[1]\n",
    "                edge_index[1,2*j+1] = edge[0]\n",
    "                \n",
    "            x = torch.ones(CBT.number_of_nodes(), 1)\n",
    "            dataset.append(Data(x=x, edge_index=edge_index, y=torch.tensor(0)))\n",
    "\n",
    "            x = torch.ones(CBT.number_of_nodes(), 1)\n",
    "            x[-1,:] = feature\n",
    "            dataset.append(Data(x=x, edge_index=edge_index, y=torch.tensor(1)))            \n",
    "    \n",
    "    model = GIN(input_dim=1, hidden_dim=32, n_layers=4, n_class=2).to(device)\n",
    "    optimizer = torch.optim.Adam(model.parameters(), lr=0.001)\n",
    "    loss_func = nn.CrossEntropyLoss()\n",
    "    \n",
    "    train_set, val_set, test_set = torch.utils.data.random_split(dataset, [204, 26, 26], generator=generator)\n",
    "        \n",
    "    train_loader = DataLoader(train_set, batch_size=32, shuffle=True)\n",
    "    val_loader = DataLoader(val_set, batch_size=32)\n",
    "    test_loader = DataLoader(test_set, batch_size=32)\n",
    "    \n",
    "    best_val_loss = np.inf\n",
    "    for epoch in range(301):\n",
    "        model.train()\n",
    "        loss_all = 0\n",
    "        for data in train_loader:\n",
    "            data = data.to(device)\n",
    "            optimizer.zero_grad()\n",
    "            output = model(data)\n",
    "            loss = loss_func(output, data.y)\n",
    "            loss.backward()\n",
    "            loss_all += data.num_graphs * loss.item()\n",
    "            optimizer.step()\n",
    "        train_loss = loss_all / len(train_loader.dataset)\n",
    "\n",
    "        model.eval()\n",
    "        loss_all = 0\n",
    "        for data in val_loader:\n",
    "            data = data.to(device)\n",
    "            output = model(data)\n",
    "            loss = loss_func(output, data.y)\n",
    "            loss_all += data.num_graphs * loss.item()\n",
    "        val_loss = loss_all / len(val_loader.dataset)\n",
    "\n",
    "        if best_val_loss >= val_loss:\n",
    "            best_val_loss = val_loss\n",
    "\n",
    "            correct = 0\n",
    "            z_test = list()\n",
    "            for data in test_loader:\n",
    "                data = data.to(device)\n",
    "                output = model(data)\n",
    "                pred = output.max(1)[1]\n",
    "                correct += pred.eq(data.y).sum().item()\n",
    "            test_acc = correct / len(test_loader.dataset)\n",
    "\n",
    "        if epoch % 50 == 0:\n",
    "            print('Epoch: {:03d}, Train Loss: {:.7f}, '\n",
    "                    'Val Loss: {:.7f}, Test Acc: {:.7f}'.format(\n",
    "                    epoch+1, train_loss, val_loss, test_acc))\n",
    "            \n",
    "    test_accs.append(test_acc)"
   ]
  },
  {
   "cell_type": "markdown",
   "id": "9a51269d",
   "metadata": {},
   "source": [
    "We finally plot the accuracy achieved by GIN vs. the value of the feature of the leaf node."
   ]
  },
  {
   "cell_type": "code",
   "execution_count": 19,
   "id": "7b2f5c4a",
   "metadata": {},
   "outputs": [
    {
     "data": {
      "text/plain": [
       "Text(0, 0.5, 'Accuracy')"
      ]
     },
     "execution_count": 19,
     "metadata": {},
     "output_type": "execute_result"
    },
    {
     "data": {
      "image/png": "[encoded data removed]",
      "text/plain": [
       "<Figure size 640x480 with 1 Axes>"
      ]
     },
     "metadata": {},
     "output_type": "display_data"
    }
   ],
   "source": [
    "sns.lineplot(x=feature_vals, y=test_accs)\n",
    "plt.xlabel(r\"$\\Vert \\mathbf{w}_v - \\mathbf{w}_{v'} \\Vert$\")\n",
    "plt.ylabel('Accuracy')"
   ]
  }
 ],
 "metadata": {
  "kernelspec": {
   "display_name": "Python 3 (ipykernel)",
   "language": "python",
   "name": "python3"
  },
  "language_info": {
   "codemirror_mode": {
    "name": "ipython",
    "version": 3
   },
   "file_extension": ".py",
   "mimetype": "text/x-python",
   "name": "python",
   "nbconvert_exporter": "python",
   "pygments_lexer": "ipython3",
   "version": "3.9.13"
  }
 },
 "nbformat": 4,
 "nbformat_minor": 5
}
